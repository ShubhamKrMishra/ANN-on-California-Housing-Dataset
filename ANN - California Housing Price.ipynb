{
 "cells": [
  {
   "cell_type": "code",
   "execution_count": 1,
   "id": "7a7ed107",
   "metadata": {},
   "outputs": [],
   "source": [
    "import numpy as np\n",
    "import pandas as pd\n",
    "%matplotlib inline \n",
    "import matplotlib as mpl\n",
    "import matplotlib.pyplot as plt"
   ]
  },
  {
   "cell_type": "code",
   "execution_count": 2,
   "id": "444ca152",
   "metadata": {},
   "outputs": [],
   "source": [
    "import tensorflow as tf\n",
    "from tensorflow import keras"
   ]
  },
  {
   "cell_type": "code",
   "execution_count": 4,
   "id": "414715a2",
   "metadata": {},
   "outputs": [],
   "source": [
    "from sklearn.datasets import fetch_california_housing\n",
    "housing = fetch_california_housing()"
   ]
  },
  {
   "cell_type": "code",
   "execution_count": 5,
   "id": "88d5f40c",
   "metadata": {},
   "outputs": [
    {
     "data": {
      "text/plain": [
       "{'data': array([[   8.3252    ,   41.        ,    6.98412698, ...,    2.55555556,\n",
       "           37.88      , -122.23      ],\n",
       "        [   8.3014    ,   21.        ,    6.23813708, ...,    2.10984183,\n",
       "           37.86      , -122.22      ],\n",
       "        [   7.2574    ,   52.        ,    8.28813559, ...,    2.80225989,\n",
       "           37.85      , -122.24      ],\n",
       "        ...,\n",
       "        [   1.7       ,   17.        ,    5.20554273, ...,    2.3256351 ,\n",
       "           39.43      , -121.22      ],\n",
       "        [   1.8672    ,   18.        ,    5.32951289, ...,    2.12320917,\n",
       "           39.43      , -121.32      ],\n",
       "        [   2.3886    ,   16.        ,    5.25471698, ...,    2.61698113,\n",
       "           39.37      , -121.24      ]]),\n",
       " 'target': array([4.526, 3.585, 3.521, ..., 0.923, 0.847, 0.894]),\n",
       " 'frame': None,\n",
       " 'target_names': ['MedHouseVal'],\n",
       " 'feature_names': ['MedInc',\n",
       "  'HouseAge',\n",
       "  'AveRooms',\n",
       "  'AveBedrms',\n",
       "  'Population',\n",
       "  'AveOccup',\n",
       "  'Latitude',\n",
       "  'Longitude'],\n",
       " 'DESCR': '.. _california_housing_dataset:\\n\\nCalifornia Housing dataset\\n--------------------------\\n\\n**Data Set Characteristics:**\\n\\n    :Number of Instances: 20640\\n\\n    :Number of Attributes: 8 numeric, predictive attributes and the target\\n\\n    :Attribute Information:\\n        - MedInc        median income in block group\\n        - HouseAge      median house age in block group\\n        - AveRooms      average number of rooms per household\\n        - AveBedrms     average number of bedrooms per household\\n        - Population    block group population\\n        - AveOccup      average number of household members\\n        - Latitude      block group latitude\\n        - Longitude     block group longitude\\n\\n    :Missing Attribute Values: None\\n\\nThis dataset was obtained from the StatLib repository.\\nhttps://www.dcc.fc.up.pt/~ltorgo/Regression/cal_housing.html\\n\\nThe target variable is the median house value for California districts,\\nexpressed in hundreds of thousands of dollars ($100,000).\\n\\nThis dataset was derived from the 1990 U.S. census, using one row per census\\nblock group. A block group is the smallest geographical unit for which the U.S.\\nCensus Bureau publishes sample data (a block group typically has a population\\nof 600 to 3,000 people).\\n\\nAn household is a group of people residing within a home. Since the average\\nnumber of rooms and bedrooms in this dataset are provided per household, these\\ncolumns may take surpinsingly large values for block groups with few households\\nand many empty houses, such as vacation resorts.\\n\\nIt can be downloaded/loaded using the\\n:func:`sklearn.datasets.fetch_california_housing` function.\\n\\n.. topic:: References\\n\\n    - Pace, R. Kelley and Ronald Barry, Sparse Spatial Autoregressions,\\n      Statistics and Probability Letters, 33 (1997) 291-297\\n'}"
      ]
     },
     "execution_count": 5,
     "metadata": {},
     "output_type": "execute_result"
    }
   ],
   "source": [
    "housing"
   ]
  },
  {
   "cell_type": "markdown",
   "id": "61f83be3",
   "metadata": {},
   "source": [
    "#### DataSet Characteristics:\n",
    "\n",
    "##### Number of Instances:\n",
    "20640\n",
    "\n",
    "##### Number of Attributes:\n",
    "8 numeric, predictive attributes and the target\n",
    "\n",
    "##### Attribute Information:\n",
    "Medinc: median income in block\n",
    "HOuse Age: median house age in block\n",
    "AveRooms: average number of rooms\n",
    "AveBedrms: average number of bedrooms\n",
    "Population: block population\n",
    "AveOccup: average house occupancy\n",
    "Latitude: house block latitude\n",
    "Longitute: house block longitude\n",
    "\n",
    "##### Target\n",
    "The target variable is the median house value in units of 100,000 for california districts"
   ]
  },
  {
   "cell_type": "code",
   "execution_count": 6,
   "id": "ca4ea670",
   "metadata": {},
   "outputs": [
    {
     "name": "stdout",
     "output_type": "stream",
     "text": [
      "['MedInc', 'HouseAge', 'AveRooms', 'AveBedrms', 'Population', 'AveOccup', 'Latitude', 'Longitude']\n"
     ]
    }
   ],
   "source": [
    "print(housing.feature_names)"
   ]
  },
  {
   "cell_type": "code",
   "execution_count": 9,
   "id": "64109984",
   "metadata": {},
   "outputs": [],
   "source": [
    "from sklearn.model_selection import train_test_split\n",
    "x_train_full, x_test, y_train_full, y_test = train_test_split(housing.data, housing.target, random_state = 42)\n",
    "x_train, x_valid, y_train, y_valid = train_test_split(x_train_full, y_train_full, random_state = 42)"
   ]
  },
  {
   "cell_type": "code",
   "execution_count": 10,
   "id": "7c40836d",
   "metadata": {},
   "outputs": [],
   "source": [
    "from sklearn.preprocessing import StandardScaler\n",
    "sc = StandardScaler()\n",
    "x_train = sc.fit_transform(x_train)\n",
    "x_test = sc.fit_transform(x_test)\n",
    "x_valid = sc.fit_transform(x_valid)"
   ]
  },
  {
   "cell_type": "code",
   "execution_count": 11,
   "id": "30be302c",
   "metadata": {},
   "outputs": [],
   "source": [
    "np.random.seed(42)\n",
    "tf.random.set_seed(42)"
   ]
  },
  {
   "cell_type": "code",
   "execution_count": 12,
   "id": "3add47e6",
   "metadata": {},
   "outputs": [
    {
     "data": {
      "text/plain": [
       "(11610, 8)"
      ]
     },
     "execution_count": 12,
     "metadata": {},
     "output_type": "execute_result"
    }
   ],
   "source": [
    "x_train.shape"
   ]
  },
  {
   "cell_type": "code",
   "execution_count": 22,
   "id": "51c65578",
   "metadata": {},
   "outputs": [],
   "source": [
    "model = keras.models.Sequential([\n",
    "    keras.layers.Dense(30, activation = 'relu', input_shape = [8]),\n",
    "    keras.layers.Dense(30, activation = 'relu'),\n",
    "    keras.layers.Dense(1)\n",
    "])"
   ]
  },
  {
   "cell_type": "code",
   "execution_count": 23,
   "id": "f871fb05",
   "metadata": {},
   "outputs": [
    {
     "name": "stdout",
     "output_type": "stream",
     "text": [
      "Model: \"sequential_1\"\n",
      "_________________________________________________________________\n",
      " Layer (type)                Output Shape              Param #   \n",
      "=================================================================\n",
      " dense_3 (Dense)             (None, 30)                270       \n",
      "                                                                 \n",
      " dense_4 (Dense)             (None, 30)                930       \n",
      "                                                                 \n",
      " dense_5 (Dense)             (None, 1)                 31        \n",
      "                                                                 \n",
      "=================================================================\n",
      "Total params: 1231 (4.81 KB)\n",
      "Trainable params: 1231 (4.81 KB)\n",
      "Non-trainable params: 0 (0.00 Byte)\n",
      "_________________________________________________________________\n"
     ]
    }
   ],
   "source": [
    "model.summary()"
   ]
  },
  {
   "cell_type": "code",
   "execution_count": 24,
   "id": "6ff18a7d",
   "metadata": {},
   "outputs": [
    {
     "name": "stderr",
     "output_type": "stream",
     "text": [
      "WARNING:absl:`lr` is deprecated in Keras optimizer, please use `learning_rate` or use the legacy optimizer, e.g.,tf.keras.optimizers.legacy.SGD.\n"
     ]
    }
   ],
   "source": [
    "model.compile(loss = 'mean_squared_error',\n",
    "             optimizer = keras.optimizers.SGD(lr=1e-3),\n",
    "              metrics = ['mae']\n",
    "             )"
   ]
  },
  {
   "cell_type": "code",
   "execution_count": 33,
   "id": "f5422ba7",
   "metadata": {},
   "outputs": [
    {
     "name": "stdout",
     "output_type": "stream",
     "text": [
      "Epoch 1/40\n",
      "363/363 [==============================] - 1s 3ms/step - loss: 0.2757 - mae: 0.3606 - val_loss: 0.3946 - val_mae: 0.4197\n",
      "Epoch 2/40\n",
      "363/363 [==============================] - 1s 3ms/step - loss: 0.2744 - mae: 0.3584 - val_loss: 0.3793 - val_mae: 0.4204\n",
      "Epoch 3/40\n",
      "363/363 [==============================] - 1s 3ms/step - loss: 0.2748 - mae: 0.3590 - val_loss: 0.3793 - val_mae: 0.4247\n",
      "Epoch 4/40\n",
      "363/363 [==============================] - 1s 3ms/step - loss: 0.2745 - mae: 0.3584 - val_loss: 0.3784 - val_mae: 0.4250\n",
      "Epoch 5/40\n",
      "363/363 [==============================] - 1s 3ms/step - loss: 0.2739 - mae: 0.3578 - val_loss: 0.3872 - val_mae: 0.4419\n",
      "Epoch 6/40\n",
      "363/363 [==============================] - 1s 3ms/step - loss: 0.2736 - mae: 0.3579 - val_loss: 0.3849 - val_mae: 0.4261\n",
      "Epoch 7/40\n",
      "363/363 [==============================] - 1s 3ms/step - loss: 0.2722 - mae: 0.3571 - val_loss: 0.3737 - val_mae: 0.4252\n",
      "Epoch 8/40\n",
      "363/363 [==============================] - 1s 3ms/step - loss: 0.2726 - mae: 0.3574 - val_loss: 0.3829 - val_mae: 0.4300\n",
      "Epoch 9/40\n",
      "363/363 [==============================] - 1s 3ms/step - loss: 0.2708 - mae: 0.3556 - val_loss: 0.3950 - val_mae: 0.4213\n",
      "Epoch 10/40\n",
      "363/363 [==============================] - 1s 3ms/step - loss: 0.2704 - mae: 0.3562 - val_loss: 0.3725 - val_mae: 0.4280\n",
      "Epoch 11/40\n",
      "363/363 [==============================] - 1s 3ms/step - loss: 0.2720 - mae: 0.3559 - val_loss: 0.4017 - val_mae: 0.4261\n",
      "Epoch 12/40\n",
      "363/363 [==============================] - 1s 3ms/step - loss: 0.2714 - mae: 0.3559 - val_loss: 0.3833 - val_mae: 0.4191\n",
      "Epoch 13/40\n",
      "363/363 [==============================] - 1s 3ms/step - loss: 0.2695 - mae: 0.3553 - val_loss: 0.3872 - val_mae: 0.4184\n",
      "Epoch 14/40\n",
      "363/363 [==============================] - 1s 4ms/step - loss: 0.2696 - mae: 0.3549 - val_loss: 0.3882 - val_mae: 0.4213\n",
      "Epoch 15/40\n",
      "363/363 [==============================] - 2s 6ms/step - loss: 0.2703 - mae: 0.3561 - val_loss: 0.3764 - val_mae: 0.4225\n",
      "Epoch 16/40\n",
      "363/363 [==============================] - 1s 4ms/step - loss: 0.2700 - mae: 0.3553 - val_loss: 0.3716 - val_mae: 0.4266\n",
      "Epoch 17/40\n",
      "363/363 [==============================] - 2s 6ms/step - loss: 0.2702 - mae: 0.3551 - val_loss: 0.3867 - val_mae: 0.4420\n",
      "Epoch 18/40\n",
      "363/363 [==============================] - 1s 3ms/step - loss: 0.2683 - mae: 0.3545 - val_loss: 0.3821 - val_mae: 0.4186\n",
      "Epoch 19/40\n",
      "363/363 [==============================] - 1s 3ms/step - loss: 0.2699 - mae: 0.3556 - val_loss: 0.3962 - val_mae: 0.4243\n",
      "Epoch 20/40\n",
      "363/363 [==============================] - 1s 3ms/step - loss: 0.2682 - mae: 0.3542 - val_loss: 0.3800 - val_mae: 0.4368\n",
      "Epoch 21/40\n",
      "363/363 [==============================] - 1s 4ms/step - loss: 0.2660 - mae: 0.3537 - val_loss: 0.3921 - val_mae: 0.4449\n",
      "Epoch 22/40\n",
      "363/363 [==============================] - 1s 3ms/step - loss: 0.2669 - mae: 0.3544 - val_loss: 0.3752 - val_mae: 0.4305\n",
      "Epoch 23/40\n",
      "363/363 [==============================] - 1s 3ms/step - loss: 0.2661 - mae: 0.3528 - val_loss: 0.4030 - val_mae: 0.4185\n",
      "Epoch 24/40\n",
      "363/363 [==============================] - 1s 3ms/step - loss: 0.2661 - mae: 0.3528 - val_loss: 0.3787 - val_mae: 0.4248\n",
      "Epoch 25/40\n",
      "363/363 [==============================] - 1s 3ms/step - loss: 0.2666 - mae: 0.3531 - val_loss: 0.3997 - val_mae: 0.4279\n",
      "Epoch 26/40\n",
      "363/363 [==============================] - 1s 3ms/step - loss: 0.2657 - mae: 0.3523 - val_loss: 0.3828 - val_mae: 0.4213\n",
      "Epoch 27/40\n",
      "363/363 [==============================] - 1s 3ms/step - loss: 0.2644 - mae: 0.3506 - val_loss: 0.3805 - val_mae: 0.4228\n",
      "Epoch 28/40\n",
      "363/363 [==============================] - 1s 3ms/step - loss: 0.2652 - mae: 0.3518 - val_loss: 0.3827 - val_mae: 0.4205\n",
      "Epoch 29/40\n",
      "363/363 [==============================] - 1s 4ms/step - loss: 0.2654 - mae: 0.3525 - val_loss: 0.3738 - val_mae: 0.4263\n",
      "Epoch 30/40\n",
      "363/363 [==============================] - 1s 3ms/step - loss: 0.2653 - mae: 0.3519 - val_loss: 0.3891 - val_mae: 0.4225\n",
      "Epoch 31/40\n",
      "363/363 [==============================] - 1s 3ms/step - loss: 0.2647 - mae: 0.3523 - val_loss: 0.3779 - val_mae: 0.4264\n",
      "Epoch 32/40\n",
      "363/363 [==============================] - 1s 4ms/step - loss: 0.2646 - mae: 0.3526 - val_loss: 0.3947 - val_mae: 0.4424\n",
      "Epoch 33/40\n",
      "363/363 [==============================] - 1s 3ms/step - loss: 0.2636 - mae: 0.3504 - val_loss: 0.3867 - val_mae: 0.4369\n",
      "Epoch 34/40\n",
      "363/363 [==============================] - 1s 3ms/step - loss: 0.2626 - mae: 0.3504 - val_loss: 0.3887 - val_mae: 0.4397\n",
      "Epoch 35/40\n",
      "363/363 [==============================] - 1s 3ms/step - loss: 0.2627 - mae: 0.3505 - val_loss: 0.3916 - val_mae: 0.4435\n",
      "Epoch 36/40\n",
      "363/363 [==============================] - 1s 4ms/step - loss: 0.2634 - mae: 0.3508 - val_loss: 0.3891 - val_mae: 0.4353\n",
      "Epoch 37/40\n",
      "363/363 [==============================] - 1s 3ms/step - loss: 0.2624 - mae: 0.3504 - val_loss: 0.3728 - val_mae: 0.4233\n",
      "Epoch 38/40\n",
      "363/363 [==============================] - 1s 3ms/step - loss: 0.2607 - mae: 0.3486 - val_loss: 0.3934 - val_mae: 0.4316\n",
      "Epoch 39/40\n",
      "363/363 [==============================] - 1s 3ms/step - loss: 0.2626 - mae: 0.3504 - val_loss: 0.3812 - val_mae: 0.4344\n",
      "Epoch 40/40\n",
      "363/363 [==============================] - 1s 4ms/step - loss: 0.2621 - mae: 0.3486 - val_loss: 0.3860 - val_mae: 0.4253\n"
     ]
    }
   ],
   "source": [
    "model_history = model.fit(x_train, y_train, epochs = 40, validation_data = (x_valid, y_valid))"
   ]
  },
  {
   "cell_type": "code",
   "execution_count": 34,
   "id": "b070b8a3",
   "metadata": {},
   "outputs": [
    {
     "name": "stdout",
     "output_type": "stream",
     "text": [
      "162/162 [==============================] - 0s 2ms/step - loss: 0.3204 - mae: 0.3922\n"
     ]
    }
   ],
   "source": [
    "mae_test = model.evaluate(x_test, y_test)"
   ]
  },
  {
   "cell_type": "code",
   "execution_count": 35,
   "id": "951e0610",
   "metadata": {},
   "outputs": [
    {
     "data": {
      "text/plain": [
       "{'loss': [0.2756897807121277,\n",
       "  0.27437272667884827,\n",
       "  0.27482739090919495,\n",
       "  0.2744574546813965,\n",
       "  0.2738734185695648,\n",
       "  0.27357351779937744,\n",
       "  0.27220582962036133,\n",
       "  0.27259522676467896,\n",
       "  0.2708267271518707,\n",
       "  0.2704010009765625,\n",
       "  0.27196741104125977,\n",
       "  0.2713868319988251,\n",
       "  0.26954877376556396,\n",
       "  0.26960518956184387,\n",
       "  0.2702626883983612,\n",
       "  0.26999035477638245,\n",
       "  0.2701758146286011,\n",
       "  0.2683348059654236,\n",
       "  0.2698807716369629,\n",
       "  0.2681783437728882,\n",
       "  0.26595810055732727,\n",
       "  0.2669273912906647,\n",
       "  0.2660607099533081,\n",
       "  0.26605331897735596,\n",
       "  0.2665664553642273,\n",
       "  0.26569539308547974,\n",
       "  0.2643880248069763,\n",
       "  0.26516932249069214,\n",
       "  0.26535215973854065,\n",
       "  0.26530003547668457,\n",
       "  0.264719158411026,\n",
       "  0.26463788747787476,\n",
       "  0.26364797353744507,\n",
       "  0.26261699199676514,\n",
       "  0.26266178488731384,\n",
       "  0.26340451836586,\n",
       "  0.2624240517616272,\n",
       "  0.2607303559780121,\n",
       "  0.26261264085769653,\n",
       "  0.2621167302131653],\n",
       " 'mae': [0.36057883501052856,\n",
       "  0.3584407567977905,\n",
       "  0.35898175835609436,\n",
       "  0.35837969183921814,\n",
       "  0.3577811121940613,\n",
       "  0.3579011857509613,\n",
       "  0.3570643961429596,\n",
       "  0.3574238419532776,\n",
       "  0.3556152880191803,\n",
       "  0.3561587333679199,\n",
       "  0.355899453163147,\n",
       "  0.35586005449295044,\n",
       "  0.3552686870098114,\n",
       "  0.35489413142204285,\n",
       "  0.35605940222740173,\n",
       "  0.35527104139328003,\n",
       "  0.35514381527900696,\n",
       "  0.3544669449329376,\n",
       "  0.35562756657600403,\n",
       "  0.35423195362091064,\n",
       "  0.35366401076316833,\n",
       "  0.35444799065589905,\n",
       "  0.35281574726104736,\n",
       "  0.35284996032714844,\n",
       "  0.353123277425766,\n",
       "  0.3522548973560333,\n",
       "  0.3505696654319763,\n",
       "  0.35180217027664185,\n",
       "  0.35249119997024536,\n",
       "  0.35187509655952454,\n",
       "  0.3523314297199249,\n",
       "  0.35263094305992126,\n",
       "  0.35035544633865356,\n",
       "  0.3503701090812683,\n",
       "  0.3504694700241089,\n",
       "  0.35084864497184753,\n",
       "  0.3504091799259186,\n",
       "  0.34855079650878906,\n",
       "  0.35035449266433716,\n",
       "  0.3486027121543884],\n",
       " 'val_loss': [0.3946395814418793,\n",
       "  0.3792935907840729,\n",
       "  0.3792991638183594,\n",
       "  0.378403902053833,\n",
       "  0.38720765709877014,\n",
       "  0.38486048579216003,\n",
       "  0.3736662268638611,\n",
       "  0.38285118341445923,\n",
       "  0.3949708044528961,\n",
       "  0.37246671319007874,\n",
       "  0.40174683928489685,\n",
       "  0.3832915127277374,\n",
       "  0.38721218705177307,\n",
       "  0.38824501633644104,\n",
       "  0.3763662278652191,\n",
       "  0.37155237793922424,\n",
       "  0.38670971989631653,\n",
       "  0.38214045763015747,\n",
       "  0.39622101187705994,\n",
       "  0.3800080120563507,\n",
       "  0.39212408661842346,\n",
       "  0.3752110004425049,\n",
       "  0.4030158519744873,\n",
       "  0.37870821356773376,\n",
       "  0.3996852934360504,\n",
       "  0.3828312158584595,\n",
       "  0.3805367350578308,\n",
       "  0.3826972544193268,\n",
       "  0.3737579882144928,\n",
       "  0.38914915919303894,\n",
       "  0.3778958320617676,\n",
       "  0.3946555554866791,\n",
       "  0.38666772842407227,\n",
       "  0.38870957493782043,\n",
       "  0.3916189670562744,\n",
       "  0.38913437724113464,\n",
       "  0.37281784415245056,\n",
       "  0.39344894886016846,\n",
       "  0.38117626309394836,\n",
       "  0.38595685362815857],\n",
       " 'val_mae': [0.4196659326553345,\n",
       "  0.4204292893409729,\n",
       "  0.4247044622898102,\n",
       "  0.42497318983078003,\n",
       "  0.4418586790561676,\n",
       "  0.4261181652545929,\n",
       "  0.4251828193664551,\n",
       "  0.4299614727497101,\n",
       "  0.4213079810142517,\n",
       "  0.4279676675796509,\n",
       "  0.4261460304260254,\n",
       "  0.419109582901001,\n",
       "  0.41843852400779724,\n",
       "  0.4212906062602997,\n",
       "  0.42247894406318665,\n",
       "  0.4265589118003845,\n",
       "  0.4420289695262909,\n",
       "  0.4185596704483032,\n",
       "  0.4243442416191101,\n",
       "  0.43676093220710754,\n",
       "  0.4449019134044647,\n",
       "  0.4305124282836914,\n",
       "  0.4185353219509125,\n",
       "  0.42483699321746826,\n",
       "  0.42794427275657654,\n",
       "  0.421273410320282,\n",
       "  0.42275527119636536,\n",
       "  0.4205094277858734,\n",
       "  0.4263247847557068,\n",
       "  0.42249906063079834,\n",
       "  0.42644616961479187,\n",
       "  0.4424407184123993,\n",
       "  0.4368511438369751,\n",
       "  0.43971437215805054,\n",
       "  0.443490207195282,\n",
       "  0.43531957268714905,\n",
       "  0.42332613468170166,\n",
       "  0.43155577778816223,\n",
       "  0.4343995153903961,\n",
       "  0.4252742826938629]}"
      ]
     },
     "execution_count": 35,
     "metadata": {},
     "output_type": "execute_result"
    }
   ],
   "source": [
    "model_history.history"
   ]
  },
  {
   "cell_type": "code",
   "execution_count": 36,
   "id": "e6d0f618",
   "metadata": {},
   "outputs": [
    {
     "data": {
      "image/png": "[encoded data removed]",
      "text/plain": [
       "<Figure size 800x500 with 1 Axes>"
      ]
     },
     "metadata": {},
     "output_type": "display_data"
    }
   ],
   "source": [
    "pd.DataFrame(model_history.history).plot(figsize = (8,5))\n",
    "plt.grid(True)\n",
    "plt.gca().set_ylim(0, 1)\n",
    "plt.show()"
   ]
  },
  {
   "cell_type": "markdown",
   "id": "c21887ad",
   "metadata": {},
   "source": [
    "#### Epochs value 40 is good for my model as my graph started converging"
   ]
  },
  {
   "cell_type": "code",
   "execution_count": 37,
   "id": "d1bbfb54",
   "metadata": {},
   "outputs": [],
   "source": [
    "x_new = x_test[:10]"
   ]
  },
  {
   "cell_type": "code",
   "execution_count": 38,
   "id": "3a69adca",
   "metadata": {},
   "outputs": [
    {
     "name": "stdout",
     "output_type": "stream",
     "text": [
      "1/1 [==============================] - 0s 112ms/step\n",
      "[[0.48707032]\n",
      " [1.3270766 ]\n",
      " [5.386935  ]\n",
      " [2.6078906 ]\n",
      " [3.2635455 ]\n",
      " [1.7254734 ]\n",
      " [2.3491712 ]\n",
      " [1.6245321 ]\n",
      " [3.0646615 ]\n",
      " [4.413137  ]]\n",
      "[0.477   0.458   5.00001 2.186   2.78    1.587   1.982   1.575   3.4\n",
      " 4.466  ]\n"
     ]
    }
   ],
   "source": [
    "y_pred = model.predict(x_new)\n",
    "print(y_pred)\n",
    "print(y_test[:10])"
   ]
  },
  {
   "cell_type": "code",
   "execution_count": null,
   "id": "65657928",
   "metadata": {},
   "outputs": [],
   "source": []
  }
 ],
 "metadata": {
  "kernelspec": {
   "display_name": "Python 3 (ipykernel)",
   "language": "python",
   "name": "python3"
  },
  "language_info": {
   "codemirror_mode": {
    "name": "ipython",
    "version": 3
   },
   "file_extension": ".py",
   "mimetype": "text/x-python",
   "name": "python",
   "nbconvert_exporter": "python",
   "pygments_lexer": "ipython3",
   "version": "3.9.13"
  }
 },
 "nbformat": 4,
 "nbformat_minor": 5
}
