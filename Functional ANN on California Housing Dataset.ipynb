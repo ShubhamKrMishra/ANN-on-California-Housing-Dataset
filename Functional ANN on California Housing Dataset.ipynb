{
 "cells": [
  {
   "cell_type": "code",
   "execution_count": 17,
   "id": "c9d5ebe3",
   "metadata": {},
   "outputs": [],
   "source": [
    "del model"
   ]
  },
  {
   "cell_type": "code",
   "execution_count": 18,
   "id": "70a253a1",
   "metadata": {},
   "outputs": [],
   "source": [
    "keras.backend.clear_session()"
   ]
  },
  {
   "cell_type": "code",
   "execution_count": 19,
   "id": "6c55a38f",
   "metadata": {},
   "outputs": [],
   "source": [
    "import numpy as np\n",
    "import pandas as pd\n",
    "%matplotlib inline \n",
    "import matplotlib as mpl\n",
    "import matplotlib.pyplot as plt"
   ]
  },
  {
   "cell_type": "code",
   "execution_count": 20,
   "id": "f5ef72bc",
   "metadata": {},
   "outputs": [],
   "source": [
    "import tensorflow as tf\n",
    "from tensorflow import keras\n"
   ]
  },
  {
   "cell_type": "code",
   "execution_count": 21,
   "id": "1d52ec5b",
   "metadata": {},
   "outputs": [],
   "source": [
    "from sklearn.datasets import fetch_california_housing\n",
    "housing = fetch_california_housing()"
   ]
  },
  {
   "cell_type": "code",
   "execution_count": 22,
   "id": "4777af16",
   "metadata": {},
   "outputs": [
    {
     "data": {
      "text/plain": [
       "{'data': array([[   8.3252    ,   41.        ,    6.98412698, ...,    2.55555556,\n",
       "           37.88      , -122.23      ],\n",
       "        [   8.3014    ,   21.        ,    6.23813708, ...,    2.10984183,\n",
       "           37.86      , -122.22      ],\n",
       "        [   7.2574    ,   52.        ,    8.28813559, ...,    2.80225989,\n",
       "           37.85      , -122.24      ],\n",
       "        ...,\n",
       "        [   1.7       ,   17.        ,    5.20554273, ...,    2.3256351 ,\n",
       "           39.43      , -121.22      ],\n",
       "        [   1.8672    ,   18.        ,    5.32951289, ...,    2.12320917,\n",
       "           39.43      , -121.32      ],\n",
       "        [   2.3886    ,   16.        ,    5.25471698, ...,    2.61698113,\n",
       "           39.37      , -121.24      ]]),\n",
       " 'target': array([4.526, 3.585, 3.521, ..., 0.923, 0.847, 0.894]),\n",
       " 'frame': None,\n",
       " 'target_names': ['MedHouseVal'],\n",
       " 'feature_names': ['MedInc',\n",
       "  'HouseAge',\n",
       "  'AveRooms',\n",
       "  'AveBedrms',\n",
       "  'Population',\n",
       "  'AveOccup',\n",
       "  'Latitude',\n",
       "  'Longitude'],\n",
       " 'DESCR': '.. _california_housing_dataset:\\n\\nCalifornia Housing dataset\\n--------------------------\\n\\n**Data Set Characteristics:**\\n\\n    :Number of Instances: 20640\\n\\n    :Number of Attributes: 8 numeric, predictive attributes and the target\\n\\n    :Attribute Information:\\n        - MedInc        median income in block group\\n        - HouseAge      median house age in block group\\n        - AveRooms      average number of rooms per household\\n        - AveBedrms     average number of bedrooms per household\\n        - Population    block group population\\n        - AveOccup      average number of household members\\n        - Latitude      block group latitude\\n        - Longitude     block group longitude\\n\\n    :Missing Attribute Values: None\\n\\nThis dataset was obtained from the StatLib repository.\\nhttps://www.dcc.fc.up.pt/~ltorgo/Regression/cal_housing.html\\n\\nThe target variable is the median house value for California districts,\\nexpressed in hundreds of thousands of dollars ($100,000).\\n\\nThis dataset was derived from the 1990 U.S. census, using one row per census\\nblock group. A block group is the smallest geographical unit for which the U.S.\\nCensus Bureau publishes sample data (a block group typically has a population\\nof 600 to 3,000 people).\\n\\nAn household is a group of people residing within a home. Since the average\\nnumber of rooms and bedrooms in this dataset are provided per household, these\\ncolumns may take surpinsingly large values for block groups with few households\\nand many empty houses, such as vacation resorts.\\n\\nIt can be downloaded/loaded using the\\n:func:`sklearn.datasets.fetch_california_housing` function.\\n\\n.. topic:: References\\n\\n    - Pace, R. Kelley and Ronald Barry, Sparse Spatial Autoregressions,\\n      Statistics and Probability Letters, 33 (1997) 291-297\\n'}"
      ]
     },
     "execution_count": 22,
     "metadata": {},
     "output_type": "execute_result"
    }
   ],
   "source": [
    "housing"
   ]
  },
  {
   "cell_type": "code",
   "execution_count": 23,
   "id": "e4f6f490",
   "metadata": {},
   "outputs": [
    {
     "name": "stdout",
     "output_type": "stream",
     "text": [
      "['MedInc', 'HouseAge', 'AveRooms', 'AveBedrms', 'Population', 'AveOccup', 'Latitude', 'Longitude']\n"
     ]
    }
   ],
   "source": [
    "print(housing.feature_names)"
   ]
  },
  {
   "cell_type": "code",
   "execution_count": 24,
   "id": "e4d6333c",
   "metadata": {},
   "outputs": [],
   "source": [
    "from sklearn.model_selection import train_test_split\n",
    "x_train_full, x_test, y_train_full, y_test = train_test_split(housing.data, housing.target, random_state = 42)\n",
    "x_train, x_valid, y_train, y_valid = train_test_split(x_train_full, y_train_full, random_state = 42)"
   ]
  },
  {
   "cell_type": "code",
   "execution_count": 25,
   "id": "b2b39513",
   "metadata": {},
   "outputs": [],
   "source": [
    "from sklearn.preprocessing import StandardScaler\n",
    "sc = StandardScaler()\n",
    "x_train = sc.fit_transform(x_train)\n",
    "x_test = sc.fit_transform(x_test)\n",
    "x_valid = sc.fit_transform(x_valid)"
   ]
  },
  {
   "cell_type": "code",
   "execution_count": 26,
   "id": "85e64e7f",
   "metadata": {},
   "outputs": [],
   "source": [
    "np.random.seed(42)\n",
    "tf.random.set_seed(42)"
   ]
  },
  {
   "cell_type": "code",
   "execution_count": 27,
   "id": "5f3beb66",
   "metadata": {},
   "outputs": [
    {
     "data": {
      "text/plain": [
       "(11610, 8)"
      ]
     },
     "execution_count": 27,
     "metadata": {},
     "output_type": "execute_result"
    }
   ],
   "source": [
    "x_train.shape"
   ]
  },
  {
   "cell_type": "code",
   "execution_count": 28,
   "id": "e83616cd",
   "metadata": {},
   "outputs": [],
   "source": [
    "input_ = keras.layers.Input(shape = x_train.shape[1:])\n",
    "hidden1 = keras.layers.Dense(30, activation = 'relu')(input_)\n",
    "hidden2 = keras.layers.Dense(30, activation = 'relu')(hidden1)\n",
    "concat = keras.layers.concatenate([input_, hidden2])\n",
    "output = keras.layers.Dense(1)(concat)\n",
    "\n",
    "model = keras.models.Model(inputs =[input_], outputs = [output] )"
   ]
  },
  {
   "cell_type": "code",
   "execution_count": 29,
   "id": "a7debb47",
   "metadata": {},
   "outputs": [
    {
     "name": "stdout",
     "output_type": "stream",
     "text": [
      "Model: \"model\"\n",
      "__________________________________________________________________________________________________\n",
      " Layer (type)                Output Shape                 Param #   Connected to                  \n",
      "==================================================================================================\n",
      " input_1 (InputLayer)        [(None, 8)]                  0         []                            \n",
      "                                                                                                  \n",
      " dense (Dense)               (None, 30)                   270       ['input_1[0][0]']             \n",
      "                                                                                                  \n",
      " dense_1 (Dense)             (None, 30)                   930       ['dense[0][0]']               \n",
      "                                                                                                  \n",
      " concatenate (Concatenate)   (None, 38)                   0         ['input_1[0][0]',             \n",
      "                                                                     'dense_1[0][0]']             \n",
      "                                                                                                  \n",
      " dense_2 (Dense)             (None, 1)                    39        ['concatenate[0][0]']         \n",
      "                                                                                                  \n",
      "==================================================================================================\n",
      "Total params: 1239 (4.84 KB)\n",
      "Trainable params: 1239 (4.84 KB)\n",
      "Non-trainable params: 0 (0.00 Byte)\n",
      "__________________________________________________________________________________________________\n"
     ]
    }
   ],
   "source": [
    "model.summary()"
   ]
  },
  {
   "cell_type": "code",
   "execution_count": 30,
   "id": "713b606c",
   "metadata": {},
   "outputs": [
    {
     "name": "stderr",
     "output_type": "stream",
     "text": [
      "WARNING:absl:`lr` is deprecated in Keras optimizer, please use `learning_rate` or use the legacy optimizer, e.g.,tf.keras.optimizers.legacy.SGD.\n"
     ]
    }
   ],
   "source": [
    "model.compile(loss = 'mean_squared_error',\n",
    "              optimizer = keras.optimizers.SGD(lr = 1e-3),\n",
    "              metrics = ['mae']             \n",
    "             )"
   ]
  },
  {
   "cell_type": "code",
   "execution_count": 31,
   "id": "adb01317",
   "metadata": {},
   "outputs": [
    {
     "name": "stdout",
     "output_type": "stream",
     "text": [
      "Epoch 1/40\n",
      "363/363 [==============================] - 3s 6ms/step - loss: 0.6835 - mae: 0.5791 - val_loss: 0.4839 - val_mae: 0.5028\n",
      "Epoch 2/40\n",
      "363/363 [==============================] - 2s 6ms/step - loss: 0.4452 - mae: 0.4786 - val_loss: 0.4820 - val_mae: 0.4918\n",
      "Epoch 3/40\n",
      "363/363 [==============================] - 4s 11ms/step - loss: 0.5714 - mae: 0.4891 - val_loss: 0.4583 - val_mae: 0.4944\n",
      "Epoch 4/40\n",
      "363/363 [==============================] - 3s 9ms/step - loss: 0.3907 - mae: 0.4456 - val_loss: 0.4320 - val_mae: 0.4754\n",
      "Epoch 5/40\n",
      "363/363 [==============================] - 4s 11ms/step - loss: 0.3887 - mae: 0.4395 - val_loss: 0.6027 - val_mae: 0.4889\n",
      "Epoch 6/40\n",
      "363/363 [==============================] - 4s 12ms/step - loss: 0.6601 - mae: 0.4937 - val_loss: 0.7454 - val_mae: 0.5244\n",
      "Epoch 7/40\n",
      "363/363 [==============================] - 3s 9ms/step - loss: 0.6997 - mae: 0.4996 - val_loss: 0.4574 - val_mae: 0.4637\n",
      "Epoch 8/40\n",
      "363/363 [==============================] - 3s 7ms/step - loss: 0.3670 - mae: 0.4312 - val_loss: 0.6211 - val_mae: 0.4695\n",
      "Epoch 9/40\n",
      "363/363 [==============================] - 3s 8ms/step - loss: 0.5794 - mae: 0.5019 - val_loss: 1.8796 - val_mae: 0.5268\n",
      "Epoch 10/40\n",
      "363/363 [==============================] - 3s 8ms/step - loss: 1.8894 - mae: 0.5399 - val_loss: 0.5451 - val_mae: 0.5011\n",
      "Epoch 11/40\n",
      "363/363 [==============================] - 3s 7ms/step - loss: 30.3911 - mae: 0.6573 - val_loss: 53.0054 - val_mae: 2.4113\n",
      "Epoch 12/40\n",
      "363/363 [==============================] - 3s 7ms/step - loss: nan - mae: nan - val_loss: nan - val_mae: nan\n",
      "Epoch 13/40\n",
      "363/363 [==============================] - 3s 8ms/step - loss: nan - mae: nan - val_loss: nan - val_mae: nan\n",
      "Epoch 14/40\n",
      "363/363 [==============================] - 3s 7ms/step - loss: nan - mae: nan - val_loss: nan - val_mae: nan\n",
      "Epoch 15/40\n",
      "363/363 [==============================] - 3s 8ms/step - loss: nan - mae: nan - val_loss: nan - val_mae: nan\n",
      "Epoch 16/40\n",
      "363/363 [==============================] - 3s 9ms/step - loss: nan - mae: nan - val_loss: nan - val_mae: nan\n",
      "Epoch 17/40\n",
      "363/363 [==============================] - 3s 7ms/step - loss: nan - mae: nan - val_loss: nan - val_mae: nan\n",
      "Epoch 18/40\n",
      "363/363 [==============================] - 4s 12ms/step - loss: nan - mae: nan - val_loss: nan - val_mae: nan\n",
      "Epoch 19/40\n",
      "363/363 [==============================] - 4s 12ms/step - loss: nan - mae: nan - val_loss: nan - val_mae: nan\n",
      "Epoch 20/40\n",
      "363/363 [==============================] - 5s 13ms/step - loss: nan - mae: nan - val_loss: nan - val_mae: nan\n",
      "Epoch 21/40\n",
      "363/363 [==============================] - 4s 11ms/step - loss: nan - mae: nan - val_loss: nan - val_mae: nan\n",
      "Epoch 22/40\n",
      "363/363 [==============================] - 5s 13ms/step - loss: nan - mae: nan - val_loss: nan - val_mae: nan\n",
      "Epoch 23/40\n",
      "363/363 [==============================] - 4s 12ms/step - loss: nan - mae: nan - val_loss: nan - val_mae: nan\n",
      "Epoch 24/40\n",
      "363/363 [==============================] - 5s 13ms/step - loss: nan - mae: nan - val_loss: nan - val_mae: nan\n",
      "Epoch 25/40\n",
      "363/363 [==============================] - 4s 11ms/step - loss: nan - mae: nan - val_loss: nan - val_mae: nan\n",
      "Epoch 26/40\n",
      "363/363 [==============================] - 2s 7ms/step - loss: nan - mae: nan - val_loss: nan - val_mae: nan\n",
      "Epoch 27/40\n",
      "363/363 [==============================] - 3s 7ms/step - loss: nan - mae: nan - val_loss: nan - val_mae: nan\n",
      "Epoch 28/40\n",
      "363/363 [==============================] - 3s 9ms/step - loss: nan - mae: nan - val_loss: nan - val_mae: nan\n",
      "Epoch 29/40\n",
      "363/363 [==============================] - 4s 12ms/step - loss: nan - mae: nan - val_loss: nan - val_mae: nan\n",
      "Epoch 30/40\n",
      "363/363 [==============================] - 5s 13ms/step - loss: nan - mae: nan - val_loss: nan - val_mae: nan\n",
      "Epoch 31/40\n",
      "363/363 [==============================] - 4s 10ms/step - loss: nan - mae: nan - val_loss: nan - val_mae: nan\n",
      "Epoch 32/40\n",
      "363/363 [==============================] - 3s 8ms/step - loss: nan - mae: nan - val_loss: nan - val_mae: nan\n",
      "Epoch 33/40\n",
      "363/363 [==============================] - 3s 7ms/step - loss: nan - mae: nan - val_loss: nan - val_mae: nan\n",
      "Epoch 34/40\n",
      "363/363 [==============================] - 3s 9ms/step - loss: nan - mae: nan - val_loss: nan - val_mae: nan\n",
      "Epoch 35/40\n",
      "363/363 [==============================] - 3s 9ms/step - loss: nan - mae: nan - val_loss: nan - val_mae: nan\n",
      "Epoch 36/40\n",
      "363/363 [==============================] - 3s 8ms/step - loss: nan - mae: nan - val_loss: nan - val_mae: nan\n",
      "Epoch 37/40\n",
      "363/363 [==============================] - 3s 9ms/step - loss: nan - mae: nan - val_loss: nan - val_mae: nan\n",
      "Epoch 38/40\n",
      "363/363 [==============================] - 4s 10ms/step - loss: nan - mae: nan - val_loss: nan - val_mae: nan\n",
      "Epoch 39/40\n",
      "363/363 [==============================] - 3s 9ms/step - loss: nan - mae: nan - val_loss: nan - val_mae: nan\n",
      "Epoch 40/40\n",
      "363/363 [==============================] - 4s 10ms/step - loss: nan - mae: nan - val_loss: nan - val_mae: nan\n"
     ]
    }
   ],
   "source": [
    "model_history = model.fit(x_train, y_train, epochs = 40, validation_data = (x_valid, y_valid))"
   ]
  },
  {
   "cell_type": "code",
   "execution_count": 32,
   "id": "95ae9137",
   "metadata": {},
   "outputs": [
    {
     "name": "stdout",
     "output_type": "stream",
     "text": [
      "162/162 [==============================] - 2s 9ms/step - loss: nan - mae: nan\n"
     ]
    }
   ],
   "source": [
    "mae_test = model.evaluate(x_test, y_test)"
   ]
  },
  {
   "cell_type": "code",
   "execution_count": 33,
   "id": "4bae1466",
   "metadata": {},
   "outputs": [
    {
     "data": {
      "text/plain": [
       "{'loss': [0.6835399866104126,\n",
       "  0.4452293813228607,\n",
       "  0.5714208483695984,\n",
       "  0.39072614908218384,\n",
       "  0.3886835277080536,\n",
       "  0.6600863337516785,\n",
       "  0.6996917128562927,\n",
       "  0.3670467436313629,\n",
       "  0.5793748497962952,\n",
       "  1.8893582820892334,\n",
       "  30.391071319580078,\n",
       "  nan,\n",
       "  nan,\n",
       "  nan,\n",
       "  nan,\n",
       "  nan,\n",
       "  nan,\n",
       "  nan,\n",
       "  nan,\n",
       "  nan,\n",
       "  nan,\n",
       "  nan,\n",
       "  nan,\n",
       "  nan,\n",
       "  nan,\n",
       "  nan,\n",
       "  nan,\n",
       "  nan,\n",
       "  nan,\n",
       "  nan,\n",
       "  nan,\n",
       "  nan,\n",
       "  nan,\n",
       "  nan,\n",
       "  nan,\n",
       "  nan,\n",
       "  nan,\n",
       "  nan,\n",
       "  nan,\n",
       "  nan],\n",
       " 'mae': [0.5790759325027466,\n",
       "  0.47855308651924133,\n",
       "  0.48913612961769104,\n",
       "  0.44560807943344116,\n",
       "  0.43954986333847046,\n",
       "  0.4937128722667694,\n",
       "  0.49957647919654846,\n",
       "  0.4312383830547333,\n",
       "  0.5019379258155823,\n",
       "  0.5398670434951782,\n",
       "  0.6573231816291809,\n",
       "  nan,\n",
       "  nan,\n",
       "  nan,\n",
       "  nan,\n",
       "  nan,\n",
       "  nan,\n",
       "  nan,\n",
       "  nan,\n",
       "  nan,\n",
       "  nan,\n",
       "  nan,\n",
       "  nan,\n",
       "  nan,\n",
       "  nan,\n",
       "  nan,\n",
       "  nan,\n",
       "  nan,\n",
       "  nan,\n",
       "  nan,\n",
       "  nan,\n",
       "  nan,\n",
       "  nan,\n",
       "  nan,\n",
       "  nan,\n",
       "  nan,\n",
       "  nan,\n",
       "  nan,\n",
       "  nan,\n",
       "  nan],\n",
       " 'val_loss': [0.4839116334915161,\n",
       "  0.4819798171520233,\n",
       "  0.45827433466911316,\n",
       "  0.43201419711112976,\n",
       "  0.6026605367660522,\n",
       "  0.7453680038452148,\n",
       "  0.45740461349487305,\n",
       "  0.6210561394691467,\n",
       "  1.879564881324768,\n",
       "  0.5451482534408569,\n",
       "  53.00544357299805,\n",
       "  nan,\n",
       "  nan,\n",
       "  nan,\n",
       "  nan,\n",
       "  nan,\n",
       "  nan,\n",
       "  nan,\n",
       "  nan,\n",
       "  nan,\n",
       "  nan,\n",
       "  nan,\n",
       "  nan,\n",
       "  nan,\n",
       "  nan,\n",
       "  nan,\n",
       "  nan,\n",
       "  nan,\n",
       "  nan,\n",
       "  nan,\n",
       "  nan,\n",
       "  nan,\n",
       "  nan,\n",
       "  nan,\n",
       "  nan,\n",
       "  nan,\n",
       "  nan,\n",
       "  nan,\n",
       "  nan,\n",
       "  nan],\n",
       " 'val_mae': [0.5027938485145569,\n",
       "  0.4918178617954254,\n",
       "  0.4944380819797516,\n",
       "  0.47535523772239685,\n",
       "  0.4888746738433838,\n",
       "  0.5243657231330872,\n",
       "  0.46374204754829407,\n",
       "  0.4695380628108978,\n",
       "  0.5268017649650574,\n",
       "  0.5011346936225891,\n",
       "  2.411250591278076,\n",
       "  nan,\n",
       "  nan,\n",
       "  nan,\n",
       "  nan,\n",
       "  nan,\n",
       "  nan,\n",
       "  nan,\n",
       "  nan,\n",
       "  nan,\n",
       "  nan,\n",
       "  nan,\n",
       "  nan,\n",
       "  nan,\n",
       "  nan,\n",
       "  nan,\n",
       "  nan,\n",
       "  nan,\n",
       "  nan,\n",
       "  nan,\n",
       "  nan,\n",
       "  nan,\n",
       "  nan,\n",
       "  nan,\n",
       "  nan,\n",
       "  nan,\n",
       "  nan,\n",
       "  nan,\n",
       "  nan,\n",
       "  nan]}"
      ]
     },
     "execution_count": 33,
     "metadata": {},
     "output_type": "execute_result"
    }
   ],
   "source": [
    "model_history.history"
   ]
  },
  {
   "cell_type": "code",
   "execution_count": 34,
   "id": "d32677d4",
   "metadata": {},
   "outputs": [
    {
     "data": {
      "image/png": "[encoded data removed]",
      "text/plain": [
       "<Figure size 800x500 with 1 Axes>"
      ]
     },
     "metadata": {},
     "output_type": "display_data"
    }
   ],
   "source": [
    "pd.DataFrame(model_history.history).plot(figsize = (8,5))\n",
    "plt.grid(True)\n",
    "plt.gca().set_ylim(0,1)\n",
    "\n",
    "plt.show()"
   ]
  },
  {
   "cell_type": "code",
   "execution_count": null,
   "id": "5b345aad",
   "metadata": {},
   "outputs": [],
   "source": []
  },
  {
   "cell_type": "code",
   "execution_count": null,
   "id": "f88c036d",
   "metadata": {},
   "outputs": [],
   "source": []
  },
  {
   "cell_type": "code",
   "execution_count": null,
   "id": "90a5798e",
   "metadata": {},
   "outputs": [],
   "source": []
  },
  {
   "cell_type": "code",
   "execution_count": null,
   "id": "04dc7b77",
   "metadata": {},
   "outputs": [],
   "source": []
  }
 ],
 "metadata": {
  "kernelspec": {
   "display_name": "Python 3 (ipykernel)",
   "language": "python",
   "name": "python3"
  },
  "language_info": {
   "codemirror_mode": {
    "name": "ipython",
    "version": 3
   },
   "file_extension": ".py",
   "mimetype": "text/x-python",
   "name": "python",
   "nbconvert_exporter": "python",
   "pygments_lexer": "ipython3",
   "version": "3.9.13"
  }
 },
 "nbformat": 4,
 "nbformat_minor": 5
}
